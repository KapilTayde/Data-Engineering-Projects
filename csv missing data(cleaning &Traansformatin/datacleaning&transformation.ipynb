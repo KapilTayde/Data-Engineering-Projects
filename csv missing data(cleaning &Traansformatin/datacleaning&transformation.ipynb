{
 "cells": [
  {
   "cell_type": "code",
   "execution_count": 19,
   "id": "2d9a6f36-450b-4022-b207-8b3d20762658",
   "metadata": {},
   "outputs": [
    {
     "name": "stdout",
     "output_type": "stream",
     "text": [
      "   id   name  age   salary department\n",
      "0   1   John   25  50000.0         HR\n",
      "1   2  Alice   30      NaN         IT\n",
      "2   3    Bob   28  55000.0    Finance\n",
      "3   4    NaN   35  60000.0         IT\n",
      "4   5    Tom   40      NaN         HR\n",
      "5   6   Emma   29  52000.0    Finance\n",
      "6   7   Lily   32  58000.0         IT\n",
      "7   8   Mark   27      NaN         HR\n",
      "   Unnamed: 0  id   name  age   salary department\n",
      "0           0   1   John   25  50000.0         HR\n",
      "1           1   2  Alice   30  55000.0         IT\n",
      "2           2   3    Bob   28  55000.0    Finance\n",
      "3           4   5    Tom   40  55000.0         HR\n",
      "4           5   6   Emma   29  52000.0    Finance\n",
      "5           6   7   Lily   32  58000.0         IT\n",
      "6           7   8   Mark   27  55000.0         HR\n"
     ]
    }
   ],
   "source": [
    "import pandas as pd\n",
    "csv=pd.read_csv(\"data.csv\")\n",
    "print(csv)\n",
    "\n",
    "#csv[\"salary\"]=csv[\"salary\"].fillna filling it with salary mean(average))\n",
    "csv[\"salary\"]=csv[\"salary\"].fillna(csv[\"salary\"].mean())\n",
    "\n",
    "#dropping row where name is NA\n",
    "csv=csv.dropna(subset=[\"name\"])\n",
    "\n",
    "#creating new csv\n",
    "csv.to_csv(\"cleaned.csv\")\n",
    "\n",
    "#printing new csv\n",
    "a=pd.read_csv(\"cleaned.csv\")\n",
    "print(a)\n"
   ]
  },
  {
   "cell_type": "code",
   "execution_count": null,
   "id": "85269d0a-9e88-4ffa-b035-be1e72bda969",
   "metadata": {},
   "outputs": [],
   "source": []
  }
 ],
 "metadata": {
  "kernelspec": {
   "display_name": "Python 3 (ipykernel)",
   "language": "python",
   "name": "python3"
  },
  "language_info": {
   "codemirror_mode": {
    "name": "ipython",
    "version": 3
   },
   "file_extension": ".py",
   "mimetype": "text/x-python",
   "name": "python",
   "nbconvert_exporter": "python",
   "pygments_lexer": "ipython3",
   "version": "3.10.16"
  }
 },
 "nbformat": 4,
 "nbformat_minor": 5
}

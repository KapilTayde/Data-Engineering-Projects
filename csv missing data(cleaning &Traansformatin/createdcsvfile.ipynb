{
 "cells": [
  {
   "cell_type": "code",
   "execution_count": 1,
   "id": "a53d0aa8-d4b3-46f7-9f30-fb0427208032",
   "metadata": {},
   "outputs": [
    {
     "name": "stdout",
     "output_type": "stream",
     "text": [
      "Successfully created csv file\n"
     ]
    }
   ],
   "source": [
    "data= \"\"\"id,name,age,salary,department\n",
    "1,John,25,50000,HR\n",
    "2,Alice,30,,IT\n",
    "3,Bob,28,55000,Finance\n",
    "4,,35,60000,IT\n",
    "5,Tom,40,,HR\n",
    "6,Emma,29,52000,Finance\n",
    "7,Lily,32,58000,IT\n",
    "8,Mark,27,,HR\"\"\"\n",
    "\n",
    "with open(\"data.csv\",\"w\")as file:\n",
    "    file.write(data)\n",
    "    print(\"Successfully created csv file\")"
   ]
  }
 ],
 "metadata": {
  "kernelspec": {
   "display_name": "Python 3 (ipykernel)",
   "language": "python",
   "name": "python3"
  },
  "language_info": {
   "codemirror_mode": {
    "name": "ipython",
    "version": 3
   },
   "file_extension": ".py",
   "mimetype": "text/x-python",
   "name": "python",
   "nbconvert_exporter": "python",
   "pygments_lexer": "ipython3",
   "version": "3.10.16"
  }
 },
 "nbformat": 4,
 "nbformat_minor": 5
}

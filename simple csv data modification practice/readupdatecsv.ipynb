{
 "cells": [
  {
   "cell_type": "code",
   "execution_count": 8,
   "id": "7a5d73a0-ae48-48e7-81af-4ef6b6a6a102",
   "metadata": {},
   "outputs": [
    {
     "name": "stdout",
     "output_type": "stream",
     "text": [
      "   id     name  age       city  salary\n",
      "0   1    Alice   25     Mumbai   50000\n",
      "1   2      Bob   30      Delhi   60000\n",
      "2   3  Charlie   35  Bangalore   70000\n",
      "3   4    David   40    Chennai   80000\n",
      "4   5      Eva   28       Pune   55000\n",
      "   id     name  age       city   salary\n",
      "0   1    Alice   25     Mumbai  55000.0\n",
      "1   2      Bob   30      Delhi  66000.0\n",
      "2   3  Charlie   35  Bangalore  77000.0\n",
      "3   4    David   40    Chennai  88000.0\n",
      "4   5      Eva   28       Pune  60500.0\n"
     ]
    }
   ],
   "source": [
    "import pandas as pd\n",
    "d=pd.read_csv(\"data.csv\")\n",
    "print(d)\n",
    "d[\"salary\"]=d[\"salary\"] * 1.10\n",
    "print(d)\n",
    "d.to_csv(\"updatedsalary.csv\", index = False)"
   ]
  },
  {
   "cell_type": "code",
   "execution_count": 9,
   "id": "0b630cbb-2288-4103-90b2-39ec8fd073bd",
   "metadata": {},
   "outputs": [
    {
     "name": "stdout",
     "output_type": "stream",
     "text": [
      "   id     name  age       city   salary\n",
      "0   1    Alice   25     Mumbai  55000.0\n",
      "1   2      Bob   30      Delhi  66000.0\n",
      "2   3  Charlie   35  Bangalore  77000.0\n",
      "3   4    David   40    Chennai  88000.0\n",
      "4   5      Eva   28       Pune  60500.0\n"
     ]
    }
   ],
   "source": [
    "import pandas as pd\n",
    "d=pd.read_csv(\"updatedsalary.csv\")\n",
    "print(d)"
   ]
  },
  {
   "cell_type": "code",
   "execution_count": null,
   "id": "6e9665a2-664b-4546-8ba2-585c015de317",
   "metadata": {},
   "outputs": [],
   "source": []
  }
 ],
 "metadata": {
  "kernelspec": {
   "display_name": "Python 3 (ipykernel)",
   "language": "python",
   "name": "python3"
  },
  "language_info": {
   "codemirror_mode": {
    "name": "ipython",
    "version": 3
   },
   "file_extension": ".py",
   "mimetype": "text/x-python",
   "name": "python",
   "nbconvert_exporter": "python",
   "pygments_lexer": "ipython3",
   "version": "3.10.16"
  }
 },
 "nbformat": 4,
 "nbformat_minor": 5
}

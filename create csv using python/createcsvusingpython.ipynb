{
 "cells": [
  {
   "cell_type": "code",
   "execution_count": 4,
   "id": "378dd136-21fa-44d0-b9d2-50ed1934604f",
   "metadata": {},
   "outputs": [],
   "source": [
    "data= \"\"\"id,name,salary\n",
    "1,kapil,70000\n",
    "2,rutu,50000\n",
    "3,Mrunali,70000 \"\"\"\n",
    "\n",
    "with open(\"data.csv\",\"w\")as file:\n",
    "    file.write(data)\n",
    "    print(\"Successfully created csv file\")"
   ]
  },
  {
   "cell_type": "code",
   "execution_count": null,
   "id": "c249c94e-a756-41ff-a022-97a87edceeed",
   "metadata": {},
   "outputs": [],
   "source": []
  }
 ],
 "metadata": {
  "kernelspec": {
   "display_name": "Python 3 (ipykernel)",
   "language": "python",
   "name": "python3"
  },
  "language_info": {
   "codemirror_mode": {
    "name": "ipython",
    "version": 3
   },
   "file_extension": ".py",
   "mimetype": "text/x-python",
   "name": "python",
   "nbconvert_exporter": "python",
   "pygments_lexer": "ipython3",
   "version": "3.10.16"
  }
 },
 "nbformat": 4,
 "nbformat_minor": 5
}

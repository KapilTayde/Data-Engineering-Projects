{
 "cells": [
  {
   "cell_type": "code",
   "execution_count": 7,
   "id": "4dd2eb6f-38d3-4272-982d-bce475d08583",
   "metadata": {},
   "outputs": [
    {
     "name": "stdout",
     "output_type": "stream",
     "text": [
      "Successfully created csv with salary more than 50000\n",
      "   id   name  age department  salary       city\n",
      "0   2  Alice   30         IT   60000  Bangalore\n",
      "1   3    Bob   28    Finance   55000      Delhi\n",
      "2   4    Eva   35         IT   70000    Chennai\n"
     ]
    }
   ],
   "source": [
    "import pandas as  pd\n",
    "\n",
    "csv1=pd.read_csv(\"data1.csv\")\n",
    "csv2=pd.read_csv(\"data2.csv\")\n",
    "# Merging to vvariables usiing pd.merge()method and selecting id on which it get merged\n",
    "\n",
    "merged=pd.merge(csv1,csv2, on=\"id\")\n",
    "\n",
    "#now created variable which holds salary >50000 \n",
    "salary=merged[merged [\"salary\"] > 50000]\n",
    "\n",
    "#Created modified csv which is having salary > 50000\n",
    "salary.to_csv(\"modified.csv\", index = False)\n",
    "print(\"Successfully created csv with salary more than 50000\")\n",
    "\n",
    "# to check modified csv have salary > 50000\n",
    "a=pd.read_csv(\"modified.csv\")\n",
    "print(a)\n"
   ]
  },
  {
   "cell_type": "code",
   "execution_count": null,
   "id": "e34d5b05-b1c1-49e0-b91e-78be0b945ec6",
   "metadata": {},
   "outputs": [],
   "source": []
  }
 ],
 "metadata": {
  "kernelspec": {
   "display_name": "Python 3 (ipykernel)",
   "language": "python",
   "name": "python3"
  },
  "language_info": {
   "codemirror_mode": {
    "name": "ipython",
    "version": 3
   },
   "file_extension": ".py",
   "mimetype": "text/x-python",
   "name": "python",
   "nbconvert_exporter": "python",
   "pygments_lexer": "ipython3",
   "version": "3.10.16"
  }
 },
 "nbformat": 4,
 "nbformat_minor": 5
}

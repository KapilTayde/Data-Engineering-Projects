{
 "cells": [
  {
   "cell_type": "code",
   "execution_count": 9,
   "id": "39ead0f1-3a9f-4028-a9ae-f0bf6b5627c6",
   "metadata": {},
   "outputs": [
    {
     "name": "stdout",
     "output_type": "stream",
     "text": [
      "file successfylly converted to csv\n",
      "      name  age department\n",
      "0    Alice   25         HR\n",
      "1      Bob   30         IT\n",
      "2  Charlie   28    Finance\n"
     ]
    }
   ],
   "source": [
    "import pandas as pd \n",
    "\n",
    "json=pd.read_json(\"data.json\") #to read json file we use pd.read_json\n",
    "\n",
    "json.to_csv(\"convertedcsvfile.csv\", index= False)#converting json to csv using to_csv methode\n",
    "\n",
    "print(\"file successfylly converted to csv\")#just printed that file converted successfully\n",
    "\n",
    "d=pd.read_csv(\"convertedcsvfile.csv\")#checking that it is converted and data is showing or not\n",
    "\n",
    "print(d)#priting data is showing or not"
   ]
  },
  {
   "cell_type": "code",
   "execution_count": null,
   "id": "daf29ddb-ab00-44f7-82f7-d101d9c7a6e1",
   "metadata": {},
   "outputs": [],
   "source": []
  },
  {
   "cell_type": "code",
   "execution_count": null,
   "id": "debc864b-6de0-4f9d-b9eb-ac1e2709b4ce",
   "metadata": {},
   "outputs": [],
   "source": []
  }
 ],
 "metadata": {
  "kernelspec": {
   "display_name": "Python 3 (ipykernel)",
   "language": "python",
   "name": "python3"
  },
  "language_info": {
   "codemirror_mode": {
    "name": "ipython",
    "version": 3
   },
   "file_extension": ".py",
   "mimetype": "text/x-python",
   "name": "python",
   "nbconvert_exporter": "python",
   "pygments_lexer": "ipython3",
   "version": "3.10.16"
  }
 },
 "nbformat": 4,
 "nbformat_minor": 5
}

{
 "cells": [
  {
   "cell_type": "code",
   "execution_count": 16,
   "id": "3a550ff3-3d70-4c03-82f6-cf450780c0e8",
   "metadata": {
    "scrolled": true
   },
   "outputs": [
    {
     "name": "stdout",
     "output_type": "stream",
     "text": [
      "Original Column Names: ['Index', ' Height(Inches)\"', ' \"Weight(Pounds)\"']\n",
      "Renamed Column Names: ['ID', 'Height(cm)', 'Weight(kg)']\n"
     ]
    }
   ],
   "source": [
    "\n",
    "\n",
    "import pandas as pd\n",
    "\n",
    "# Load the dataset\n",
    "sales = pd.read_csv(\"https://people.sc.fsu.edu/~jburkardt/data/csv/hw_200.csv\")\n",
    "\n",
    "# Print actual column names to check for spaces or issues\n",
    "print(\"Original Column Names:\", sales.columns.tolist())\n",
    "\n",
    "# Trim spaces and remove unwanted characters\n",
    "sales.columns = sales.columns.str.strip().str.replace('\"', '')\n",
    "\n",
    "# Force correct renaming\n",
    "sales.rename(columns={\"Index\": \"ID\", \"Height(Inches)\": \"Height(cm)\", \"Weight(Pounds)\": \"Weight(kg)\"}, inplace=True)\n",
    "\n",
    "# Print renamed column names\n",
    "print(\"Renamed Column Names:\", sales.columns.tolist())\n"
   ]
  },
  {
   "cell_type": "code",
   "execution_count": 17,
   "id": "b108da06-d7cc-4289-99a8-4babbdee797d",
   "metadata": {},
   "outputs": [
    {
     "name": "stdout",
     "output_type": "stream",
     "text": [
      "   ID  Height(cm)  Weight(kg)\n",
      "0   1    167.0812   51.251360\n",
      "1   2    181.6608   61.910772\n",
      "2   3    176.2760   69.413184\n",
      "3   4    173.2788   64.564285\n",
      "4   5    172.1866   65.453326\n"
     ]
    }
   ],
   "source": [
    "#Convert Height from Inches to Centimeters\n",
    "sales[\"Height(cm)\"] = sales[\"Height(cm)\"] * 2.54\n",
    "sales[\"Weight(kg)\"] = sales[\"Weight(kg)\"] * 0.453592\n",
    "print(sales.head())\n"
   ]
  },
  {
   "cell_type": "code",
   "execution_count": 18,
   "id": "c7b99cce-652a-4ac9-bc2b-256a6a6721a7",
   "metadata": {},
   "outputs": [
    {
     "name": "stdout",
     "output_type": "stream",
     "text": [
      "Successfully Created new csv file\n"
     ]
    }
   ],
   "source": [
    "#creating new csv file having filtered data\n",
    "sales.to_csv(\"newdata.csv\", index= False)\n",
    "print(\"Successfully Created new csv file\")"
   ]
  },
  {
   "cell_type": "markdown",
   "id": "da3d6df2-388f-4f62-8a36-40230d9e2016",
   "metadata": {},
   "source": [
    "# Connecting Database SQL\n"
   ]
  },
  {
   "cell_type": "code",
   "execution_count": 21,
   "id": "2135fe5a-6f9d-4e4a-a083-4e10d6138e48",
   "metadata": {},
   "outputs": [
    {
     "name": "stdout",
     "output_type": "stream",
     "text": [
      "✅ Cleaned data inserted into MySQL successfully!\n"
     ]
    }
   ],
   "source": [
    "from sqlalchemy import create_engine\n",
    "\n",
    "# Database connection details\n",
    "username = \"root\"  # Replace with your MySQL username\n",
    "password = \"Aaru%40111\"  # Replace with your MySQL password\n",
    "host = \"localhost\"  # Keep 'localhost' if running MySQL locally\n",
    "port = \"3306\"  # Default MySQL port\n",
    "db_name = \"sales_data\"  # Replace with your actual database name\n",
    "\n",
    "# Create connection\n",
    "engine = create_engine(f\"mysql+mysqlconnector://{username}:{password}@{host}:{port}/{db_name}\")\n",
    "\n",
    "# Insert data into MySQL\n",
    "sales.to_sql(\"hw_data\", engine, if_exists=\"replace\", index=False)\n",
    "print(\"✅ Cleaned data inserted into MySQL successfully!\")"
   ]
  },
  {
   "cell_type": "code",
   "execution_count": null,
   "id": "3686b7b7-50cf-410e-922d-08ce6c5d156c",
   "metadata": {},
   "outputs": [],
   "source": []
  }
 ],
 "metadata": {
  "kernelspec": {
   "display_name": "Python 3 (ipykernel)",
   "language": "python",
   "name": "python3"
  },
  "language_info": {
   "codemirror_mode": {
    "name": "ipython",
    "version": 3
   },
   "file_extension": ".py",
   "mimetype": "text/x-python",
   "name": "python",
   "nbconvert_exporter": "python",
   "pygments_lexer": "ipython3",
   "version": "3.10.16"
  }
 },
 "nbformat": 4,
 "nbformat_minor": 5
}

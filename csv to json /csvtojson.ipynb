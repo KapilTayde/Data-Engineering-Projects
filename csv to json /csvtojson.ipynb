{
 "cells": [
  {
   "cell_type": "code",
   "execution_count": 2,
   "id": "34d1704d-b43c-4474-815a-448004abc252",
   "metadata": {},
   "outputs": [
    {
     "name": "stdout",
     "output_type": "stream",
     "text": [
      "CSV successfully Converted to Json File\n",
      "   id     name  age       city  salary\n",
      "0   1    Alice   25     Mumbai   55000\n",
      "1   2      Bob   30      Delhi   66000\n",
      "2   3  Charlie   35  Bangalore   77000\n",
      "3   4    David   40    Chennai   88000\n",
      "4   5      Eva   28       Pune   60500\n"
     ]
    }
   ],
   "source": [
    "import pandas as pd\n",
    "d=pd.read_csv(\"data.csv\")\n",
    "d.to_json(\"convertedtojson.json\")\n",
    "print(\"CSV successfully Converted to Json File\")\n",
    "\n",
    "b=pd.read_json(\"convertedtojson.json\")\n",
    "print(b)"
   ]
  },
  {
   "cell_type": "code",
   "execution_count": null,
   "id": "1322f883-a4ef-4c13-9832-0c89d69882a3",
   "metadata": {},
   "outputs": [],
   "source": []
  }
 ],
 "metadata": {
  "kernelspec": {
   "display_name": "Python 3 (ipykernel)",
   "language": "python",
   "name": "python3"
  },
  "language_info": {
   "codemirror_mode": {
    "name": "ipython",
    "version": 3
   },
   "file_extension": ".py",
   "mimetype": "text/x-python",
   "name": "python",
   "nbconvert_exporter": "python",
   "pygments_lexer": "ipython3",
   "version": "3.10.16"
  }
 },
 "nbformat": 4,
 "nbformat_minor": 5
}

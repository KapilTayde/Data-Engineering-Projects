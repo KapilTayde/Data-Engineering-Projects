{
 "cells": [
  {
   "cell_type": "code",
   "execution_count": 10,
   "id": "b671c454-247b-4d42-9a24-ab8f25c88999",
   "metadata": {},
   "outputs": [
    {
     "name": "stdout",
     "output_type": "stream",
     "text": [
      "Merged two csv files successflly\n",
      "   id     name  age       city  salary\n",
      "0   1    Alice   25     Mumbai   50000\n",
      "1   2      Bob   30      Delhi   60000\n",
      "2   3  Charlie   35  Bangalore   70000\n"
     ]
    }
   ],
   "source": [
    "import pandas as pd\n",
    "\n",
    "# reading first csv\n",
    "csv1=pd.read_csv(\"data1.csv\")\n",
    "\n",
    "# reading 2nd csv fiile\n",
    "csv2=pd.read_csv(\"data2.csv\")\n",
    "\n",
    "#Now merge 2 csv files (create Variable inside that merge it)\n",
    "merged=pd.merge(csv1,csv2, on=\"id\")\n",
    "\n",
    "#converting it to merged csv file\n",
    "merged.to_csv(\"merged.csv\", index= False)\n",
    "print(\"Merged two csv files successflly\")\n",
    "\n",
    "#opening that merged file\n",
    "a=pd.read_csv(\"merged.csv\")\n",
    "print(a)"
   ]
  },
  {
   "cell_type": "code",
   "execution_count": null,
   "id": "a8b68d3b-b632-4845-a83d-3f8547c561e0",
   "metadata": {},
   "outputs": [],
   "source": []
  }
 ],
 "metadata": {
  "kernelspec": {
   "display_name": "Python 3 (ipykernel)",
   "language": "python",
   "name": "python3"
  },
  "language_info": {
   "codemirror_mode": {
    "name": "ipython",
    "version": 3
   },
   "file_extension": ".py",
   "mimetype": "text/x-python",
   "name": "python",
   "nbconvert_exporter": "python",
   "pygments_lexer": "ipython3",
   "version": "3.10.16"
  }
 },
 "nbformat": 4,
 "nbformat_minor": 5
}

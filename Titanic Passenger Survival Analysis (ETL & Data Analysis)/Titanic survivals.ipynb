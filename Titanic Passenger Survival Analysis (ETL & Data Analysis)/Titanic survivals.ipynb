{
 "cells": [
  {
   "cell_type": "code",
   "execution_count": 9,
   "id": "c66134d3-5d86-4079-9c4e-ba792ecd15b7",
   "metadata": {},
   "outputs": [],
   "source": [
    "import pandas as pd\n",
    "passengers=pd.read_csv(\"https://raw.githubusercontent.com/datasciencedojo/datasets/master/titanic.csv\")\n",
    "#print(passengers.head(2))\n",
    "\n",
    "#filling missing passengger age with all passengers meadian age using median method\n",
    "passengers[\"Age\"]=passengers[\"Age\"].fillna(passengers[\"Age\"].median())\n",
    "\n",
    "#now will fill embark column with most common values for that we use .mode()[0] multiple modes mdla 1st select krte method to fill missing values in embark\n",
    "passengers[\"Embarked\"]=passengers[\"Embarked\"].fillna(passengers[\"Embarked\"].mode()[0])\n",
    "\n",
    "#Drop the Cabin column (too many missing values\n",
    "#.drop(columns=[\"Cabin\"]) removes the \"Cabin\" column.\n",
    "#inplace=True modifies the DataFrame directly instead of creating a copy.\n",
    "\n",
    "passengers.drop(columns=[\"Cabin\"], inplace=True)\n",
    "\n",
    "#Create a new column FamilySize = SibSp + Parch + 1.\n",
    "passengers[\"Familysize\"]=passengers[\"SibSp\"] + passengers[\"Parch\"] + 1\n",
    "\n",
    "#Convert Sex into numerical (0 = Female, 1 = Male).\n",
    "passengers[\"Sex\"]=passengers[\"Sex\"].map({\"female\": 0, \"male\": 1})\n",
    "                         \n",
    "#Convert Embarked into numerical (C=0, Q=1, S=2).\n",
    "passengers[\"Embarked\"]=passengers[\"Embarked\"].map({\"C\":0, \"Q\":1, \"S\":2})\n",
    "\n",
    "#Save the cleaned dataset into a new CSV file (titanic_cleaned.csv).\n",
    "passengers.to_csv(\"titanic_cleandata.csv\", index= False)\n"
   ]
  },
  {
   "cell_type": "markdown",
   "id": "277ef2ed-2a97-4fd9-a24c-1872ddebd509",
   "metadata": {},
   "source": [
    "# Installing Required Libraries\n"
   ]
  },
  {
   "cell_type": "code",
   "execution_count": 10,
   "id": "c34d0296-9c79-43f1-ba94-b93d2ea055d1",
   "metadata": {},
   "outputs": [
    {
     "name": "stdout",
     "output_type": "stream",
     "text": [
      "Collecting psycopg2\n",
      "  Using cached psycopg2-2.9.10.tar.gz (385 kB)\n",
      "  Preparing metadata (setup.py) ... \u001b[?25ldone\n",
      "\u001b[?25hCollecting mysql-connector-python\n",
      "  Downloading mysql_connector_python-9.2.0-cp310-cp310-macosx_14_0_arm64.whl.metadata (6.0 kB)\n",
      "Requirement already satisfied: pandas in /Users/kapiltayde/miniforge3/envs/dataenv/lib/python3.10/site-packages (2.2.3)\n",
      "Collecting sqlalchemy\n",
      "  Downloading SQLAlchemy-2.0.38-cp310-cp310-macosx_11_0_arm64.whl.metadata (9.6 kB)\n",
      "Requirement already satisfied: numpy>=1.22.4 in /Users/kapiltayde/miniforge3/envs/dataenv/lib/python3.10/site-packages (from pandas) (2.2.3)\n",
      "Requirement already satisfied: python-dateutil>=2.8.2 in /Users/kapiltayde/miniforge3/envs/dataenv/lib/python3.10/site-packages (from pandas) (2.9.0.post0)\n",
      "Requirement already satisfied: pytz>=2020.1 in /Users/kapiltayde/miniforge3/envs/dataenv/lib/python3.10/site-packages (from pandas) (2024.1)\n",
      "Requirement already satisfied: tzdata>=2022.7 in /Users/kapiltayde/miniforge3/envs/dataenv/lib/python3.10/site-packages (from pandas) (2025.1)\n",
      "Requirement already satisfied: typing-extensions>=4.6.0 in /Users/kapiltayde/miniforge3/envs/dataenv/lib/python3.10/site-packages (from sqlalchemy) (4.12.2)\n",
      "Requirement already satisfied: six>=1.5 in /Users/kapiltayde/miniforge3/envs/dataenv/lib/python3.10/site-packages (from python-dateutil>=2.8.2->pandas) (1.17.0)\n",
      "Downloading mysql_connector_python-9.2.0-cp310-cp310-macosx_14_0_arm64.whl (15.1 MB)\n",
      "\u001b[2K   \u001b[90m━━━━━━━━━━━━━━━━━━━━━━━━━━━━━━━━━━━━━━━━\u001b[0m \u001b[32m15.1/15.1 MB\u001b[0m \u001b[31m8.3 MB/s\u001b[0m eta \u001b[36m0:00:00\u001b[0ma \u001b[36m0:00:01\u001b[0m\n",
      "Downloading SQLAlchemy-2.0.38-cp310-cp310-macosx_11_0_arm64.whl (2.1 MB)\n",
      "\u001b[2K   \u001b[90m━━━━━━━━━━━━━━━━━━━━━━━━━━━━━━━━━━━━━━━━\u001b[0m \u001b[32m2.1/2.1 MB\u001b[0m \u001b[31m25.3 MB/s\u001b[0m eta \u001b[36m0:00:00\u001b[0m\n",
      "\u001b[?25hBuilding wheels for collected packages: psycopg2\n",
      "  Building wheel for psycopg2 (setup.done\n",
      "\u001b[?25h  Created wheel for psycopg2: filename=psycopg2-2.9.10-cp310-cp310-macosx_11_0_arm64.whl size=132505 sha256=c91973629f9e9f5d10b7233ad638d91ff8bf389b7b85b0857417ee9b5f20011b\n",
      "  Stored in directory: /Users/kapiltayde/Library/Caches/pip/wheels/51/41/e0/2912ad51b01f454d26dfb26e5cc5923874656749b9e83943a8\n",
      "Successfully built psycopg2\n",
      "Installing collected packages: sqlalchemy, psycopg2, mysql-connector-python\n",
      "Successfully installed mysql-connector-python-9.2.0 psycopg2-2.9.10 sqlalchemy-2.0.38\n"
     ]
    }
   ],
   "source": [
    "!pip install psycopg2 mysql-connector-python pandas sqlalchemy"
   ]
  },
  {
   "cell_type": "markdown",
   "id": "f8130e01-3d04-4244-8caa-a6705e23e35e",
   "metadata": {},
   "source": [
    "# Loading Cleaned Data"
   ]
  },
  {
   "cell_type": "code",
   "execution_count": 12,
   "id": "ea2e8bfe-6a78-4ee4-8620-85a5d58b5dfc",
   "metadata": {},
   "outputs": [
    {
     "data": {
      "text/html": [
       "<div>\n",
       "<style scoped>\n",
       "    .dataframe tbody tr th:only-of-type {\n",
       "        vertical-align: middle;\n",
       "    }\n",
       "\n",
       "    .dataframe tbody tr th {\n",
       "        vertical-align: top;\n",
       "    }\n",
       "\n",
       "    .dataframe thead th {\n",
       "        text-align: right;\n",
       "    }\n",
       "</style>\n",
       "<table border=\"1\" class=\"dataframe\">\n",
       "  <thead>\n",
       "    <tr style=\"text-align: right;\">\n",
       "      <th></th>\n",
       "      <th>PassengerId</th>\n",
       "      <th>Survived</th>\n",
       "      <th>Pclass</th>\n",
       "      <th>Name</th>\n",
       "      <th>Sex</th>\n",
       "      <th>Age</th>\n",
       "      <th>SibSp</th>\n",
       "      <th>Parch</th>\n",
       "      <th>Ticket</th>\n",
       "      <th>Fare</th>\n",
       "      <th>Embarked</th>\n",
       "      <th>Familysize</th>\n",
       "    </tr>\n",
       "  </thead>\n",
       "  <tbody>\n",
       "    <tr>\n",
       "      <th>0</th>\n",
       "      <td>1</td>\n",
       "      <td>0</td>\n",
       "      <td>3</td>\n",
       "      <td>Braund, Mr. Owen Harris</td>\n",
       "      <td>1</td>\n",
       "      <td>22.0</td>\n",
       "      <td>1</td>\n",
       "      <td>0</td>\n",
       "      <td>A/5 21171</td>\n",
       "      <td>7.2500</td>\n",
       "      <td>2</td>\n",
       "      <td>2</td>\n",
       "    </tr>\n",
       "    <tr>\n",
       "      <th>1</th>\n",
       "      <td>2</td>\n",
       "      <td>1</td>\n",
       "      <td>1</td>\n",
       "      <td>Cumings, Mrs. John Bradley (Florence Briggs Th...</td>\n",
       "      <td>0</td>\n",
       "      <td>38.0</td>\n",
       "      <td>1</td>\n",
       "      <td>0</td>\n",
       "      <td>PC 17599</td>\n",
       "      <td>71.2833</td>\n",
       "      <td>0</td>\n",
       "      <td>2</td>\n",
       "    </tr>\n",
       "    <tr>\n",
       "      <th>2</th>\n",
       "      <td>3</td>\n",
       "      <td>1</td>\n",
       "      <td>3</td>\n",
       "      <td>Heikkinen, Miss. Laina</td>\n",
       "      <td>0</td>\n",
       "      <td>26.0</td>\n",
       "      <td>0</td>\n",
       "      <td>0</td>\n",
       "      <td>STON/O2. 3101282</td>\n",
       "      <td>7.9250</td>\n",
       "      <td>2</td>\n",
       "      <td>1</td>\n",
       "    </tr>\n",
       "    <tr>\n",
       "      <th>3</th>\n",
       "      <td>4</td>\n",
       "      <td>1</td>\n",
       "      <td>1</td>\n",
       "      <td>Futrelle, Mrs. Jacques Heath (Lily May Peel)</td>\n",
       "      <td>0</td>\n",
       "      <td>35.0</td>\n",
       "      <td>1</td>\n",
       "      <td>0</td>\n",
       "      <td>113803</td>\n",
       "      <td>53.1000</td>\n",
       "      <td>2</td>\n",
       "      <td>2</td>\n",
       "    </tr>\n",
       "    <tr>\n",
       "      <th>4</th>\n",
       "      <td>5</td>\n",
       "      <td>0</td>\n",
       "      <td>3</td>\n",
       "      <td>Allen, Mr. William Henry</td>\n",
       "      <td>1</td>\n",
       "      <td>35.0</td>\n",
       "      <td>0</td>\n",
       "      <td>0</td>\n",
       "      <td>373450</td>\n",
       "      <td>8.0500</td>\n",
       "      <td>2</td>\n",
       "      <td>1</td>\n",
       "    </tr>\n",
       "  </tbody>\n",
       "</table>\n",
       "</div>"
      ],
      "text/plain": [
       "   PassengerId  Survived  Pclass  \\\n",
       "0            1         0       3   \n",
       "1            2         1       1   \n",
       "2            3         1       3   \n",
       "3            4         1       1   \n",
       "4            5         0       3   \n",
       "\n",
       "                                                Name  Sex   Age  SibSp  Parch  \\\n",
       "0                            Braund, Mr. Owen Harris    1  22.0      1      0   \n",
       "1  Cumings, Mrs. John Bradley (Florence Briggs Th...    0  38.0      1      0   \n",
       "2                             Heikkinen, Miss. Laina    0  26.0      0      0   \n",
       "3       Futrelle, Mrs. Jacques Heath (Lily May Peel)    0  35.0      1      0   \n",
       "4                           Allen, Mr. William Henry    1  35.0      0      0   \n",
       "\n",
       "             Ticket     Fare  Embarked  Familysize  \n",
       "0         A/5 21171   7.2500         2           2  \n",
       "1          PC 17599  71.2833         0           2  \n",
       "2  STON/O2. 3101282   7.9250         2           1  \n",
       "3            113803  53.1000         2           2  \n",
       "4            373450   8.0500         2           1  "
      ]
     },
     "execution_count": 12,
     "metadata": {},
     "output_type": "execute_result"
    }
   ],
   "source": [
    "import pandas as pd\n",
    "\n",
    "# Load the cleaned Titanic dataset\n",
    "df = pd.read_csv(\"titanic_cleandata.csv\")\n",
    "\n",
    "# Display the first 5 rows to verify\n",
    "df.head()"
   ]
  },
  {
   "cell_type": "markdown",
   "id": "ef944dac-1413-4b2d-9d48-f90b9f0cdacf",
   "metadata": {},
   "source": [
    "# Connecting to  mySQL database"
   ]
  },
  {
   "cell_type": "code",
   "execution_count": 15,
   "id": "0b0aedf3-cbdb-4ded-88d6-1b9863a32d61",
   "metadata": {},
   "outputs": [
    {
     "name": "stdout",
     "output_type": "stream",
     "text": [
      "✅ Connected to MySQL successfully\n"
     ]
    }
   ],
   "source": [
    "from sqlalchemy import create_engine\n",
    "\n",
    "# MySQL credentials\n",
    "username = \"root\"  \n",
    "password = \"Aaru%40111\"  \n",
    "host = \"localhost\"  \n",
    "port = \"3306\"  \n",
    "db_name = \"titanic_db\"  \n",
    "\n",
    "# Create connection\n",
    "engine = create_engine(f\"mysql+mysqlconnector://{username}:{password}@{host}:{port}/{db_name}\")\n",
    "\n",
    "# Connect to MySQL\n",
    "try:\n",
    "    conn = engine.connect()\n",
    "    print(\"✅ Connected to MySQL successfully\")\n",
    "except Exception as e:\n",
    "    print(f\"❌ Connection failed: {e}\")"
   ]
  },
  {
   "cell_type": "markdown",
   "id": "78be13af-1f17-4ed2-a4eb-01006b95dc23",
   "metadata": {},
   "source": [
    "# Inserting data into database;"
   ]
  },
  {
   "cell_type": "code",
   "execution_count": 16,
   "id": "82091375-3891-4372-b958-f851ed3dffc1",
   "metadata": {},
   "outputs": [
    {
     "name": "stdout",
     "output_type": "stream",
     "text": [
      "✅ Data inserted into MySQL successfully!\n"
     ]
    }
   ],
   "source": [
    "import pandas as pd\n",
    "\n",
    "# Load the cleaned dataset\n",
    "df = pd.read_csv(\"titanic_cleandata.csv\")\n",
    "\n",
    "# Insert Data into MySQL Table\n",
    "df.to_sql(name=\"passengers\", con=engine, if_exists=\"replace\", index=False)\n",
    "\n",
    "print(\"✅ Data inserted into MySQL successfully!\")"
   ]
  },
  {
   "cell_type": "code",
   "execution_count": null,
   "id": "65ece9f9-dd0a-407d-ae2f-7b945b5ea9fd",
   "metadata": {},
   "outputs": [],
   "source": []
  }
 ],
 "metadata": {
  "kernelspec": {
   "display_name": "Python 3 (ipykernel)",
   "language": "python",
   "name": "python3"
  },
  "language_info": {
   "codemirror_mode": {
    "name": "ipython",
    "version": 3
   },
   "file_extension": ".py",
   "mimetype": "text/x-python",
   "name": "python",
   "nbconvert_exporter": "python",
   "pygments_lexer": "ipython3",
   "version": "3.10.16"
  }
 },
 "nbformat": 4,
 "nbformat_minor": 5
}
